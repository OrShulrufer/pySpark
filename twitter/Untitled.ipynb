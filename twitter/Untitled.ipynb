{
 "cells": [
  {
   "cell_type": "code",
   "execution_count": 3,
   "metadata": {},
   "outputs": [],
   "source": [
    "CONSUMER_KEY = 'HMnNDIlLnpxqoyAQC9gSs1ZxX'\n",
    "CONSUMER_SECRET = 'uba7NCMbtGiLUOSs3cPp2TlzuveBZhUlCkBLLhQiHJFqx9zmvf'\n",
    "ACCESS_TOKEN = '1153613267195039744-7ZDSA7vWYGJJnylob0or1tj6WHmoN0'\n",
    "ACCESS_TOKEN_SECRET = 'xGpjqcAcEwzpCvG57DWghb4FwNfjV81UYuavTmxVZiVOb'\n",
    "HOST = \"127.0.0.1\"  # Get local machine\n",
    "PORT = 9999  # Reserve a port for your service.\n"
   ]
  },
  {
   "cell_type": "code",
   "execution_count": 4,
   "metadata": {},
   "outputs": [],
   "source": [
    "from tweepy.streaming import StreamListener\n",
    "from tweepy import OAuthHandler\n",
    "from tweepy import Stream\n",
    "import socket\n",
    "import json\n",
    "import logging\n",
    "import threading"
   ]
  },
  {
   "cell_type": "code",
   "execution_count": 5,
   "metadata": {},
   "outputs": [],
   "source": [
    "LOCATIONS = [-124.7771694, 24.520833, -66.947028, 49.384472,  # Contiguous US\n",
    "             -164.639405, 58.806859, -144.152365, 71.76871,  # Alaska\n",
    "             -160.161542, 18.776344, -154.641396, 22.878623]  # Hawaii"
   ]
  },
  {
   "cell_type": "code",
   "execution_count": 6,
   "metadata": {},
   "outputs": [],
   "source": [
    "\n",
    "# # # # TWITTER AUTHENTICATER # # # #\n",
    "class TwitterAuthenticator:\n",
    "\n",
    "    def authenticate_twitter_app(self):\n",
    "        auth = OAuthHandler(twitter_credentials.CONSUMER_KEY, twitter_credentials.CONSUMER_SECRET)\n",
    "        auth.set_access_token(twitter_credentials.ACCESS_TOKEN, twitter_credentials.ACCESS_TOKEN_SECRET)\n",
    "        return auth\n",
    "\n",
    "\n",
    "# # # # TWITTER STREAMER # # # #\n",
    "class TwitterStreamer:\n",
    "    \"\"\"\n",
    "    Class for streaming and processing live tweets.\n",
    "    \"\"\"\n",
    "\n",
    "    def __init__(self):\n",
    "        self.twitter_autenticator = TwitterAuthenticator()\n",
    "\n",
    "    def stream_tweets(self, hash_tag_list, c_socket):\n",
    "        # This handles Twitter authetification and the connection to Twitter Streaming API\n",
    "        listener = TwitterListener(c_socket)\n",
    "        auth = self.twitter_autenticator.authenticate_twitter_app()\n",
    "        stream = Stream(auth, listener)\n",
    "\n",
    "        # This line filter Twitter Streams to capture data by the keywords:\n",
    "        # stream.filter(track=hash_tag_list)\n",
    "        stream.filter(locations=LOCATIONS, languages=[\"en\"])\n",
    "\n",
    "\n",
    "# # # # TWITTER STREAM LISTENER # # # #\n",
    "class TwitterListener(StreamListener):\n",
    "    \"\"\"\n",
    "    This is a basic listener that just prints received tweets to stdout.\n",
    "    \"\"\"\n",
    "\n",
    "    def __init__(self, c_socket):\n",
    "\n",
    "        self.client_socket = c_socket\n",
    "\n",
    "    def on_data(self, data):\n",
    "        try:\n",
    "            msg = json.loads(data)\n",
    "            print(msg['text'].encode('utf-8'))\n",
    "            self.client_socket.send(msg['text'].encode('utf-8'))\n",
    "            self.client_socket.send(\"\\n\".encode('utf-8'))\n",
    "            return True\n",
    "        except BaseException as e:\n",
    "            print(\"Error on_data: %s\" % str(e))\n",
    "        return True\n",
    "\n",
    "    def on_error(self, status):\n",
    "        print(status)\n",
    "        return True\n",
    "\n",
    "\n",
    "# create connection\n",
    "def sendData(c_socket, hash_tag_list):\n",
    "    twitter_streamer = TwitterStreamer()\n",
    "    twitter_streamer.stream_tweets(hash_tag_list, c_socket)\n",
    "\n",
    "\n",
    "def tread_function(port):\n",
    "    s = socket.socket()  # Create a socket object\n",
    "    host = twitter_credentials.HOST\n",
    "\n",
    "    # Reserve a port for your service.\n",
    "    s.bind((host, port))  # Bind to the port\n",
    "\n",
    "    hash_tag_list = []\n",
    "    #hash_tag_list = [\"donal trump\", \"hillary clinton\", \"barack obama\", \"bernie sanders\", \"movie\"]\n",
    "\n",
    "    s.listen(100)  # Now wait for client connection.\n",
    "    c, addr = s.accept()  # Establish connection with client.\n",
    "\n",
    "    print(\"Received request from: \" + str(addr))\n",
    "\n",
    "    sendData(c, hash_tag_list)"
   ]
  },
  {
   "cell_type": "code",
   "execution_count": null,
   "metadata": {},
   "outputs": [],
   "source": [
    "x1 = threading.Thread(target=tread_function, args=(9999,))\n",
    "x1.start()"
   ]
  }
 ],
 "metadata": {
  "kernelspec": {
   "display_name": "deeplurning",
   "language": "python",
   "name": "deeplurning"
  },
  "language_info": {
   "codemirror_mode": {
    "name": "ipython",
    "version": 3
   },
   "file_extension": ".py",
   "mimetype": "text/x-python",
   "name": "python",
   "nbconvert_exporter": "python",
   "pygments_lexer": "ipython3",
   "version": "3.7.4"
  }
 },
 "nbformat": 4,
 "nbformat_minor": 2
}
